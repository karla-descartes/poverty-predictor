{
 "cells": [
  {
   "cell_type": "code",
   "execution_count": null,
   "metadata": {},
   "outputs": [],
   "source": [
    "tiles = dl.raster.dltiles_from_shape(\n",
    "    resolution= 60.0, \n",
    "    tilesize=2048, \n",
    "    pad=16, \n",
    "    shape=shape)\n",
    "pprint(tiles['features'][0])\n",
    "pprint(\"Total number of tiles for Zimbabwe: \" + str(len(tiles['features'])))"
   ]
  }
 ],
 "metadata": {
  "kernelspec": {
   "display_name": "Python 2",
   "language": "python",
   "name": "python2"
  },
  "language_info": {
   "codemirror_mode": {
    "name": "ipython",
    "version": 2
   },
   "file_extension": ".py",
   "mimetype": "text/x-python",
   "name": "python",
   "nbconvert_exporter": "python",
   "pygments_lexer": "ipython2",
   "version": "2.7.10"
  }
 },
 "nbformat": 4,
 "nbformat_minor": 2
}
