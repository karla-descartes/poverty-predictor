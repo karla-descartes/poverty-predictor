{
 "cells": [
  {
   "cell_type": "code",
   "execution_count": 96,
   "metadata": {},
   "outputs": [],
   "source": [
    "import os\n",
    "import warnings\n",
    "from pprint import pprint\n",
    "import descarteslabs as dl\n",
    "import matplotlib.pyplot as plt\n",
    "from matplotlib import colors\n",
    "from osgeo import gdal\n",
    "import numpy as np\n",
    "from sklearn import metrics\n",
    "from sklearn.ensemble import RandomForestClassifier\n",
    "from descarteslabs.client.services import Catalog\n",
    "%matplotlib inline"
   ]
  },
  {
   "cell_type": "markdown",
   "metadata": {},
   "source": [
    "## Define Raster Datasets & Boundary"
   ]
  },
  {
   "cell_type": "code",
   "execution_count": null,
   "metadata": {},
   "outputs": [],
   "source": [
    "# *************FIND COUNTRY BOUNDARY ***************\n",
    "matches = dl.places.find('burundi')\n",
    "aoi = matches[0]\n",
    "pprint(aoi)\n",
    "\n",
    "shape = dl.places.shape(aoi['slug'], geom='low')"
   ]
  },
  {
   "cell_type": "code",
   "execution_count": null,
   "metadata": {},
   "outputs": [],
   "source": [
    "new_mexico = dl.places.shape('north-america_united-states_new-mexico')\n",
    "pprint(new_mexico['geometry'])"
   ]
  },
  {
   "cell_type": "code",
   "execution_count": null,
   "metadata": {},
   "outputs": [],
   "source": [
    "burundi_bounding_box = {\n",
    "  'coordinates': [\n",
    "    [\n",
    "      [55210.738, -255587.129],\n",
    "      [55210.738, -494687.129],\n",
    "      [261010.738, -255587.129],\n",
    "      [261010.738, -494687.129]\n",
    "    ]\n",
    "  ],\n",
    "  'type': 'Polygon'\n",
    "}"
   ]
  },
  {
   "cell_type": "code",
   "execution_count": null,
   "metadata": {},
   "outputs": [],
   "source": [
    "tiles = dl.raster.dltiles_from_shape(\n",
    "    resolution= 60.0, \n",
    "    tilesize=2048, \n",
    "    pad=16, \n",
    "    shape=shape)\n",
    "pprint(tiles['features'][0])\n",
    "pprint(\"Total number of tiles for Zimbabwe: \" + str(len(tiles['features'])))"
   ]
  },
  {
   "cell_type": "code",
   "execution_count": null,
   "metadata": {},
   "outputs": [],
   "source": [
    "# Search\n",
    "import json\n",
    "feature_collection = dl.metadata.search(products=['landsat:LC08:01:RT:TOAR'], \n",
    "                                        start_time='2017-05-01',\n",
    "                                        end_time='2017-05-31', \n",
    "                                        cloud_fraction=.01,\n",
    "                                        place=aoi['slug'])\n",
    "\n",
    "print (len(feature_collection['features']))"
   ]
  },
  {
   "cell_type": "code",
   "execution_count": null,
   "metadata": {},
   "outputs": [],
   "source": [
    "north_east = 'landsat:LC08:01:RT:TOAR:meta_LC08_L1TP_172062_20170701_20170701_01_RT_v1'\n",
    "south_east = 'landsat:LC08:01:RT:TOAR:meta_LC08_L1TP_172063_20170701_20170701_01_RT_v1'\n",
    "north_west = 'landsat:LC08:01:T1:TOAR:meta_LC08_L1TP_173062_20170606_20170616_01_T1_v1'\n",
    "south_west = 'landsat:LC08:01:T1:TOAR:meta_LC08_L1TP_173063_20170606_20170616_01_T1_v1'\n",
    "ids = [south_east,south_west, north_east,north_west]"
   ]
  },
  {
   "cell_type": "markdown",
   "metadata": {},
   "source": [
    "## Visualize selected Images"
   ]
  },
  {
   "cell_type": "code",
   "execution_count": null,
   "metadata": {},
   "outputs": [],
   "source": [
    "viz_arr, viz_meta = dl.raster.ndarray(\n",
    "    ids,\n",
    "    bands=['red', 'green', 'blue', 'alpha'],\n",
    "    scales=[[0,4000], [0, 4000], [0, 4000], None],\n",
    "    data_type='Byte',\n",
    "    resolution=60,\n",
    "    cutline=shape['geometry']\n",
    ")"
   ]
  },
  {
   "cell_type": "code",
   "execution_count": null,
   "metadata": {},
   "outputs": [],
   "source": [
    "clipped_arr, clipped_meta = dl.raster.ndarray(\n",
    "    ids,\n",
    "    bands=['red', 'green', 'blue', 'alpha'],\n",
    "    scales=[[0,4000], [0, 4000], [0, 4000], None],\n",
    "    data_type='Byte',\n",
    "    resolution=351.263936238588940,\n",
    "    srs = \"EPSG:32636\",\n",
    "    bounds=(55210.738, -494687.129, 261010.738, -255587.129)\n",
    ")"
   ]
  },
  {
   "cell_type": "code",
   "execution_count": null,
   "metadata": {},
   "outputs": [],
   "source": [
    "plt.figure(figsize=[16,16])\n",
    "plt.imshow(clipped_arr)"
   ]
  },
  {
   "cell_type": "code",
   "execution_count": null,
   "metadata": {},
   "outputs": [],
   "source": [
    "plt.figure(figsize=[16,16])\n",
    "plt.imshow(viz_arr)"
   ]
  },
  {
   "cell_type": "markdown",
   "metadata": {},
   "source": [
    "## Prepare raster data for analysis"
   ]
  },
  {
   "cell_type": "code",
   "execution_count": null,
   "metadata": {},
   "outputs": [],
   "source": [
    "arr, meta = dl.raster.ndarray(\n",
    "    ids,\n",
    "    bands=['red', 'green', 'blue', 'alpha'],\n",
    "    scales=[[0,4000], [0, 4000], [0, 4000], None],\n",
    "    data_type='Float32',\n",
    "    resolution=60,\n",
    "    cutline=shape['geometry']\n",
    ")"
   ]
  },
  {
   "cell_type": "code",
   "execution_count": null,
   "metadata": {},
   "outputs": [],
   "source": [
    "clipped_arr, clipped_meta = dl.raster.ndarray(\n",
    "    ids,\n",
    "    bands=['red', 'green', 'blue', 'alpha'],\n",
    "    scales=[[0,4000], [0, 4000], [0, 4000], None],\n",
    "    data_type='Float32',\n",
    "    resolution=351.263936238588940,\n",
    "    srs = \"EPSG:32636\",\n",
    "    bounds=(55210.738, -494687.129, 261010.738, -255587.129)\n",
    ")"
   ]
  },
  {
   "cell_type": "code",
   "execution_count": null,
   "metadata": {},
   "outputs": [],
   "source": [
    "rows, cols, n_bands = clipped_arr.shape "
   ]
  },
  {
   "cell_type": "code",
   "execution_count": 97,
   "metadata": {},
   "outputs": [
    {
     "name": "stdout",
     "output_type": "stream",
     "text": [
      "[55210.738, 351.263936239, 0.0, -255587.129, 0.0, -351.263936239]\n"
     ]
    }
   ],
   "source": [
    "# print(clipped_meta.keys())\n",
    "geo_transform = clipped_meta['geoTransform']\n",
    "print geo_transform\n",
    "\n",
    "proj = 'PROJCS[\"WGS 84 / UTM zone 36N\",GEOGCS[\"WGS 84\",DATUM[\"WGS_1984\",SPHEROID[\"WGS 84\",6378137,298.257223563,AUTHORITY[\"EPSG\",\"7030\"]],AUTHORITY[\"EPSG\",\"6326\"]],PRIMEM[\"Greenwich\",0,AUTHORITY[\"EPSG\",\"8901\"]],UNIT[\"degree\",0.0174532925199433,AUTHORITY[\"EPSG\",\"9122\"]],AUTHORITY[\"EPSG\",\"4326\"]],PROJECTION[\"Transverse_Mercator\"],PARAMETER[\"latitude_of_origin\",0],PARAMETER[\"central_meridian\",33],PARAMETER[\"scale_factor\",0.9996],PARAMETER[\"false_easting\",500000],PARAMETER[\"false_northing\",0],UNIT[\"metre\",1,AUTHORITY[\"EPSG\",\"9001\"]],AXIS[\"Easting\",EAST],AXIS[\"Northing\",NORTH],AUTHORITY[\"EPSG\",\"32636\"]]'\n"
   ]
  },
  {
   "cell_type": "markdown",
   "metadata": {},
   "source": [
    "### Classification \n",
    "We need a library of functions to rasterize our training data."
   ]
  },
  {
   "cell_type": "code",
   "execution_count": null,
   "metadata": {},
   "outputs": [],
   "source": [
    "def create_mask_from_vector(vector_data_path, cols, rows, geo_transform,\n",
    "                            projection, target_value=1):\n",
    "    \"\"\"Rasterize the given vector (wrapper for gdal.RasterizeLayer).\"\"\"\n",
    "    print(vector_data_path)\n",
    "    data_source = gdal.OpenEx(vector_data_path, gdal.OF_VECTOR)\n",
    "    print(data_source)\n",
    "    layer = data_source.GetLayer(0)\n",
    "    driver = gdal.GetDriverByName('MEM')  # In memory dataset\n",
    "    target_ds = driver.Create('', cols, rows, 1, gdal.GDT_UInt16)\n",
    "    target_ds.SetGeoTransform(geo_transform)\n",
    "    target_ds.SetProjection(projection)\n",
    "    gdal.RasterizeLayer(target_ds, [1], layer, burn_values=[target_value])\n",
    "    return target_ds\n",
    "\n",
    "\n",
    "def vectors_to_raster(file_paths, rows, cols, geo_transform, projection):\n",
    "    \"\"\"Rasterize the vectors in the given directory in a single image.\"\"\"\n",
    "    labeled_pixels = np.zeros((rows, cols))\n",
    "    print\n",
    "    for i, path in enumerate(file_paths):\n",
    "        label = i+1\n",
    "        ds = create_mask_from_vector(path, cols, rows, geo_transform,\n",
    "                                     projection, target_value=label)\n",
    "        band = ds.GetRasterBand(1)\n",
    "        labeled_pixels += band.ReadAsArray()\n",
    "        ds = None\n",
    "    return labeled_pixels\n",
    "\n",
    "\n",
    "def write_geotiff(fname, data, geo_transform, projection):\n",
    "    \"\"\"Create a GeoTIFF file with the given data.\"\"\"\n",
    "    driver = gdal.GetDriverByName('GTiff')\n",
    "    rows, cols = data.shape\n",
    "    dataset = driver.Create(fname, cols, rows, 1, gdal.GDT_Byte)\n",
    "    dataset.SetGeoTransform(geo_transform)\n",
    "    dataset.SetProjection(projection)\n",
    "    band = dataset.GetRasterBand(1)\n",
    "    band.WriteArray(data)\n",
    "    dataset = None  # Close the file"
   ]
  },
  {
   "cell_type": "markdown",
   "metadata": {},
   "source": [
    "Define training datasets:"
   ]
  },
  {
   "cell_type": "code",
   "execution_count": null,
   "metadata": {},
   "outputs": [],
   "source": [
    "output_fname = \"data/urban_classification.tiff\"\n",
    "train_data_path = \"data/training/\""
   ]
  },
  {
   "cell_type": "code",
   "execution_count": null,
   "metadata": {},
   "outputs": [],
   "source": [
    "files = [f for f in os.listdir(train_data_path) if f.endswith('.shp')]\n",
    "classes = [f.split('.')[0] for f in files]\n",
    "print(classes)\n",
    "shapefiles = [os.path.join(train_data_path, f)\n",
    "              for f in files if f.endswith('.shp')]\n",
    "\n",
    "labeled_pixels = vectors_to_raster(shapefiles, rows, cols, geo_transform,\n",
    "                                   proj)\n",
    "print(shapefiles, rows, cols, geo_transform, proj)\n",
    "is_train = np.nonzero(labeled_pixels)\n",
    "training_labels = labeled_pixels[is_train]\n",
    "training_samples = clipped_arr[is_train]"
   ]
  },
  {
   "cell_type": "code",
   "execution_count": null,
   "metadata": {},
   "outputs": [],
   "source": [
    "classifier = RandomForestClassifier(n_jobs=-1)\n",
    "classifier.fit(training_samples, training_labels)"
   ]
  },
  {
   "cell_type": "code",
   "execution_count": null,
   "metadata": {},
   "outputs": [],
   "source": [
    "n_samples = rows*cols\n",
    "flat_pixels = clipped_arr.reshape((n_samples, n_bands))\n",
    "result = classifier.predict(flat_pixels)\n",
    "classification = result.reshape((rows, cols))"
   ]
  },
  {
   "cell_type": "code",
   "execution_count": null,
   "metadata": {},
   "outputs": [],
   "source": [
    "# urban_class = classification.astype(int)\n",
    "write_geotiff(output_fname, classification, geo_transform, proj)\n",
    "# classification.shape"
   ]
  },
  {
   "cell_type": "code",
   "execution_count": null,
   "metadata": {},
   "outputs": [],
   "source": [
    "from matplotlib import pyplot as plt\n",
    "\n",
    "plt.figure(figsize=[16,16])\n",
    "plt.imshow(urban_class)"
   ]
  },
  {
   "cell_type": "markdown",
   "metadata": {},
   "source": [
    "### Upload Classification to Platform"
   ]
  },
  {
   "cell_type": "code",
   "execution_count": 88,
   "metadata": {},
   "outputs": [
    {
     "name": "stdout",
     "output_type": "stream",
     "text": [
      "Band Type=<type 'numpy.float64'>\n",
      "Min=2.000, Max=1.000\n"
     ]
    }
   ],
   "source": [
    "band = classification\n",
    "print(\"Band Type={}\".format(type(band[0][0])))\n",
    "      \n",
    "min = np.ndarray.max(band)\n",
    "max = np.ndarray.min(classification)\n",
    "if not min or not max:\n",
    "    (min,max) = band.ComputeRasterMinMax(True)\n",
    "print(\"Min={:.3f}, Max={:.3f}\".format(min,max))\n"
   ]
  },
  {
   "cell_type": "code",
   "execution_count": 93,
   "metadata": {},
   "outputs": [
    {
     "data": {
      "text/plain": [
       "{u'data': {u'attributes': {u'description': u'Test upload.',\n",
       "   u'read': [],\n",
       "   u'title': u'Burundi_Urban'},\n",
       "  u'id': u'7294028cc01114d89a473cf055d29dc5cd5ffe88:Burundi_Urban',\n",
       "  u'meta': {u'owner': {u'email': None,\n",
       "    u'name': u'Karla King',\n",
       "    u'uuid': u'google-oauth2|101598335967461239621'},\n",
       "   u'owner_type': u'user'},\n",
       "  u'type': u'product'}}"
      ]
     },
     "execution_count": 93,
     "metadata": {},
     "output_type": "execute_result"
    }
   ],
   "source": [
    "Catalog().add_product('Burundi_Urban', \n",
    "                      title='Burundi_Urban', \n",
    "                      description='Test upload.'\n",
    "                     )"
   ]
  },
  {
   "cell_type": "code",
   "execution_count": 94,
   "metadata": {},
   "outputs": [
    {
     "data": {
      "text/plain": [
       "{u'data': {u'attributes': {u'colormap_name': u'magma',\n",
       "   u'data_range': [1.0, 2.0],\n",
       "   u'default_range': None,\n",
       "   u'dtype': u'Float64',\n",
       "   u'jpx_layer': 0,\n",
       "   u'name': u'urban',\n",
       "   u'nbits': 64,\n",
       "   u'nodata': None,\n",
       "   u'read': [],\n",
       "   u'res_factor': 1,\n",
       "   u'srcband': 1,\n",
       "   u'srcfile': 0,\n",
       "   u'type': u'class'},\n",
       "  u'id': u'7294028cc01114d89a473cf055d29dc5cd5ffe88:Burundi_Urban:urban',\n",
       "  u'meta': {u'owner': {u'email': None,\n",
       "    u'name': u'Karla King',\n",
       "    u'uuid': u'google-oauth2|101598335967461239621'},\n",
       "   u'owner_type': u'user'},\n",
       "  u'relationships': {u'product': {u'data': {u'id': u'7294028cc01114d89a473cf055d29dc5cd5ffe88:Burundi_Urban',\n",
       "     u'type': u'product'}}},\n",
       "  u'type': u'band'}}"
      ]
     },
     "execution_count": 94,
     "metadata": {},
     "output_type": "execute_result"
    }
   ],
   "source": [
    "Catalog().add_band(product_id='7294028cc01114d89a473cf055d29dc5cd5ffe88:Burundi_Urban', name='urban', srcband=1, nbits=64,dtype='Float64',type='class',data_range=[1.000,2.000],colormap_name='magma')\n"
   ]
  },
  {
   "cell_type": "code",
   "execution_count": 95,
   "metadata": {},
   "outputs": [],
   "source": [
    "image_on_disc = '/Users/karlaking/descarteslabs-code/poverty-predictor/data/urban_classification.tiff'\n",
    "acquired_date = '2018-04-05'\n",
    "\n",
    "Catalog().upload_image(image_on_disc,\n",
    "                       '7294028cc01114d89a473cf055d29dc5cd5ffe88:Burundi_Urban',  \n",
    "                       acquired=acquired_date)"
   ]
  }
 ],
 "metadata": {
  "kernelspec": {
   "display_name": "Python 2",
   "language": "python",
   "name": "python2"
  },
  "language_info": {
   "codemirror_mode": {
    "name": "ipython",
    "version": 2
   },
   "file_extension": ".py",
   "mimetype": "text/x-python",
   "name": "python",
   "nbconvert_exporter": "python",
   "pygments_lexer": "ipython2",
   "version": "2.7.10"
  }
 },
 "nbformat": 4,
 "nbformat_minor": 2
}
