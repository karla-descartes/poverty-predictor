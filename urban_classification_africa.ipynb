{
 "cells": [
  {
   "cell_type": "code",
   "execution_count": 1,
   "metadata": {},
   "outputs": [],
   "source": [
    "import shapely.geometry\n",
    "import descarteslabs as dl \n",
    "from pprint import pprint\n",
    "import descarteslabs as dl\n",
    "import os\n",
    "import numpy as np\n",
    "from osgeo import gdal\n",
    "from sklearn.ensemble import RandomForestClassifier\n",
    "import pickle"
   ]
  },
  {
   "cell_type": "markdown",
   "metadata": {},
   "source": [
    "## Generate trained model"
   ]
  },
  {
   "cell_type": "markdown",
   "metadata": {},
   "source": [
    "Write helper functions to rasterize vector data via gdal "
   ]
  },
  {
   "cell_type": "code",
   "execution_count": 2,
   "metadata": {},
   "outputs": [],
   "source": [
    "def create_mask_from_vector(vector_data_path, cols, rows, geo_transform,\n",
    "                            projection, target_value=1):\n",
    "    \"\"\"Rasterize the given vector (wrapper for gdal.RasterizeLayer).\"\"\"\n",
    "    data_source = gdal.OpenEx(vector_data_path, gdal.OF_VECTOR)\n",
    "    layer = data_source.GetLayer(0)\n",
    "    driver = gdal.GetDriverByName('MEM')  # In memory dataset\n",
    "    target_ds = driver.Create('', cols, rows, 1, gdal.GDT_UInt16)\n",
    "    target_ds.SetGeoTransform(geo_transform)\n",
    "    target_ds.SetProjection(projection)\n",
    "    gdal.RasterizeLayer(target_ds, [1], layer, burn_values=[target_value])\n",
    "    return target_ds\n",
    "\n",
    "\n",
    "def vectors_to_raster(file_paths, rows, cols, geo_transform, projection):\n",
    "    \"\"\"Rasterize the vectors in the given directory in a single image.\"\"\"\n",
    "    labeled_pixels = np.zeros((rows, cols))\n",
    "    print\n",
    "    for i, path in enumerate(file_paths):\n",
    "        label = i+1\n",
    "        ds = create_mask_from_vector(path, cols, rows, geo_transform,\n",
    "                                     projection, target_value=label)\n",
    "        band = ds.GetRasterBand(1)\n",
    "        labeled_pixels += band.ReadAsArray()\n",
    "        ds = None\n",
    "    return labeled_pixels\n",
    "\n",
    "\n",
    "def write_geotiff(fname, data, geo_transform, projection):\n",
    "    \"\"\"Create a GeoTIFF file with the given data.\"\"\"\n",
    "    driver = gdal.GetDriverByName('GTiff')\n",
    "    rows, cols = data.shape\n",
    "    dataset = driver.Create(fname, cols, rows, 1, gdal.GDT_Byte)\n",
    "    dataset.SetGeoTransform(geo_transform)\n",
    "    dataset.SetProjection(projection)\n",
    "    band = dataset.GetRasterBand(1)\n",
    "    band.WriteArray(data)\n",
    "    dataset = None  # Close the file"
   ]
  },
  {
   "cell_type": "markdown",
   "metadata": {},
   "source": [
    "Train the model with known images and local training data"
   ]
  },
  {
   "cell_type": "code",
   "execution_count": 3,
   "metadata": {},
   "outputs": [],
   "source": [
    "north_east = 'landsat:LC08:01:RT:TOAR:meta_LC08_L1TP_172062_20170701_20170701_01_RT_v1'\n",
    "south_east = 'landsat:LC08:01:RT:TOAR:meta_LC08_L1TP_172063_20170701_20170701_01_RT_v1'\n",
    "north_west = 'landsat:LC08:01:T1:TOAR:meta_LC08_L1TP_173062_20170606_20170616_01_T1_v1'\n",
    "south_west = 'landsat:LC08:01:T1:TOAR:meta_LC08_L1TP_173063_20170606_20170616_01_T1_v1'\n",
    "ids = [south_east,south_west, north_east,north_west]"
   ]
  },
  {
   "cell_type": "code",
   "execution_count": 4,
   "metadata": {},
   "outputs": [],
   "source": [
    "training_arr, training_meta = dl.raster.ndarray(\n",
    "    ids,\n",
    "    bands=['red', 'green', 'blue', 'alpha'],\n",
    "    scales=[[0,4000], [0, 4000], [0, 4000], None],\n",
    "    data_type='Float32',\n",
    "    resolution=351.263936238588940,\n",
    "    srs = \"EPSG:32636\",\n",
    "    bounds=(55210.738, -494687.129, 261010.738, -255587.129)\n",
    ")"
   ]
  },
  {
   "cell_type": "code",
   "execution_count": 5,
   "metadata": {},
   "outputs": [
    {
     "name": "stdout",
     "output_type": "stream",
     "text": [
      "[55210.738, 351.263936239, 0.0, -255587.129, 0.0, -351.263936239]\n"
     ]
    }
   ],
   "source": [
    "rows, cols, n_bands = training_arr.shape \n",
    "geo_transform = training_meta['geoTransform']\n",
    "print(geo_transform)\n",
    "proj = 'PROJCS[\"WGS 84 / UTM zone 36N\",GEOGCS[\"WGS 84\",DATUM[\"WGS_1984\",SPHEROID[\"WGS 84\",6378137,298.257223563,AUTHORITY[\"EPSG\",\"7030\"]],AUTHORITY[\"EPSG\",\"6326\"]],PRIMEM[\"Greenwich\",0,AUTHORITY[\"EPSG\",\"8901\"]],UNIT[\"degree\",0.0174532925199433,AUTHORITY[\"EPSG\",\"9122\"]],AUTHORITY[\"EPSG\",\"4326\"]],PROJECTION[\"Transverse_Mercator\"],PARAMETER[\"latitude_of_origin\",0],PARAMETER[\"central_meridian\",33],PARAMETER[\"scale_factor\",0.9996],PARAMETER[\"false_easting\",500000],PARAMETER[\"false_northing\",0],UNIT[\"metre\",1,AUTHORITY[\"EPSG\",\"9001\"]],AXIS[\"Easting\",EAST],AXIS[\"Northing\",NORTH],AUTHORITY[\"EPSG\",\"32636\"]]'"
   ]
  },
  {
   "cell_type": "code",
   "execution_count": 6,
   "metadata": {},
   "outputs": [],
   "source": [
    "train_data_path = \"data/training/urban/\""
   ]
  },
  {
   "cell_type": "code",
   "execution_count": 7,
   "metadata": {},
   "outputs": [
    {
     "name": "stdout",
     "output_type": "stream",
     "text": [
      "The class are urban and non_urban.\n",
      "\n"
     ]
    }
   ],
   "source": [
    "files = [f for f in os.listdir(train_data_path) if f.endswith('.shp')]\n",
    "classes = [f.split('.')[0] for f in files]\n",
    "print(\"The class are {} and {}.\".format(classes[0],classes[1]))\n",
    "shapefiles = [os.path.join(train_data_path, f)\n",
    "              for f in files if f.endswith('.shp')]\n",
    "\n",
    "labeled_pixels = vectors_to_raster(shapefiles, rows, cols, geo_transform,\n",
    "                                   proj)\n",
    "is_train = np.nonzero(labeled_pixels)\n",
    "training_labels = labeled_pixels[is_train]\n",
    "training_samples = training_arr[is_train]"
   ]
  },
  {
   "cell_type": "code",
   "execution_count": 8,
   "metadata": {},
   "outputs": [
    {
     "data": {
      "text/plain": [
       "RandomForestClassifier(bootstrap=True, class_weight=None, criterion='gini',\n",
       "            max_depth=None, max_features='auto', max_leaf_nodes=None,\n",
       "            min_impurity_decrease=0.0, min_impurity_split=None,\n",
       "            min_samples_leaf=1, min_samples_split=2,\n",
       "            min_weight_fraction_leaf=0.0, n_estimators=10, n_jobs=-1,\n",
       "            oob_score=False, random_state=None, verbose=0,\n",
       "            warm_start=False)"
      ]
     },
     "execution_count": 8,
     "metadata": {},
     "output_type": "execute_result"
    }
   ],
   "source": [
    "trained_classifier = RandomForestClassifier(n_jobs=-1)\n",
    "trained_classifier.fit(training_samples, training_labels)"
   ]
  },
  {
   "cell_type": "code",
   "execution_count": 9,
   "metadata": {},
   "outputs": [],
   "source": [
    "model = pickle.dumps(trained_classifier)"
   ]
  },
  {
   "cell_type": "markdown",
   "metadata": {},
   "source": [
    "## Generate tiles over Africa"
   ]
  },
  {
   "cell_type": "code",
   "execution_count": 10,
   "metadata": {},
   "outputs": [],
   "source": [
    "africa = dl.places.shape(\"africa\")\n",
    "p = shapely.geometry.box(*africa.bbox)\n",
    "tiles = dl.raster.dltiles_from_shape(\n",
    "    resolution=500, \n",
    "    tilesize=4000, \n",
    "    pad=16, \n",
    "    shape=shapely.geometry.mapping(p))"
   ]
  },
  {
   "cell_type": "code",
   "execution_count": null,
   "metadata": {},
   "outputs": [],
   "source": [
    "print(len(tiles['features']))"
   ]
  },
  {
   "cell_type": "code",
   "execution_count": null,
   "metadata": {},
   "outputs": [],
   "source": [
    "pprint(tiles['features'][0])"
   ]
  },
  {
   "cell_type": "markdown",
   "metadata": {},
   "source": [
    "## Prepare classification code"
   ]
  },
  {
   "cell_type": "code",
   "execution_count": 14,
   "metadata": {},
   "outputs": [],
   "source": [
    "def classify_tiles(tiles, str_classifier, imagery_id):\n",
    "    \n",
    "    import json\n",
    "    import descarteslabs as dl \n",
    "    from sklearn.ensemble import RandomForestClassifier\n",
    "#     from descarteslabs.client.services import Catalog\n",
    "    import pickle \n",
    "    \n",
    "    classifier = pickle.loads(classifier)\n",
    "    \n",
    "    date = ['2016-01-01','2018-04-12']\n",
    "    total_land_pixels = 0\n",
    "    counter = 0\n",
    "    \n",
    "    for tile in tiles['features']:\n",
    "        images = dl.metadata.search(\n",
    "                                products=['landsat:LC08:PRE:TOAR', 'landsat:LC08:01:RT:TOAR','landsat:LC08:01:T2:TOAR'],\n",
    "                                start_time=date[0],\n",
    "                                end_time=date[1],\n",
    "                                geom=json.dumps(tile['geometry']),\n",
    "                                cloud_fraction=0.2,\n",
    "                                limit = 10\n",
    "                                )\n",
    "\n",
    "        print('Tile #' + str(counter) + '. Number of scenes for this tile: ' + str(len(images['features'])))\n",
    "        counter += 1\n",
    "            \n",
    "        ids = [f['id'] for f in images['features']]\n",
    "        if ids: \n",
    "        \n",
    "            arr, meta = dl.raster.ndarray(\n",
    "                ids,\n",
    "                bands=['red', 'green', 'blue', 'alpha'],\n",
    "                scales=[[0,6000], [0, 6000], [0, 6000], None],\n",
    "                data_type='Byte',\n",
    "                srs = tile['properties']['cs_code'],\n",
    "                resolution = tile['properties']['resolution'],\n",
    "                bounds = tile['properties']['outputBounds'])\n",
    "\n",
    "            arr = arr[16:-16, 16:-16]\n",
    "            rows, cols, bands = arr.shape\n",
    "            \n",
    "        \n",
    "            n_samples = rows*cols\n",
    "            classifier = json.dumps(str_classifier)\n",
    "            flat_pixels = arr.reshape((n_samples, n_bands))\n",
    "            result = classifier.predict(flat_pixels)\n",
    "            classification = result.reshape((rows, cols))\n",
    "            print(np.unique(classification, return_counts=True))\n",
    "            \n",
    "            # Upload classified tile to the same product \n",
    "#             catalog = Catalog()\n",
    "#            (old) catalog.upload_ndarray(classification, imagery_id, \"tile_0\", meta['coordinateSystem']['wkt'], geotrans=meta['geoTransform'])    \n",
    "#             catalog.upload_ndarray(classification, \n",
    "#                                    product_id= imagery_id, \n",
    "#                                    image_key=\"tile_{}\".format(counter), \n",
    "#                                    wkt_srs=meta['coordinateSystem']['wkt'], \n",
    "#                                    geotrans=meta['geoTransform'])"
   ]
  },
  {
   "cell_type": "code",
   "execution_count": null,
   "metadata": {},
   "outputs": [],
   "source": [
    "from descarteslabs.client.services import Catalog\n",
    "prod = Catalog().add_product('Urban_Africa', \n",
    "                      title='Urban_Africa', \n",
    "                      description='Urban areas identified using the random forest classificaiton.'\n",
    "                     )\n",
    "prod_id = prod['data']['id']"
   ]
  },
  {
   "cell_type": "code",
   "execution_count": null,
   "metadata": {},
   "outputs": [],
   "source": [
    "Catalog().add_band(product_id= prod_id, name='urban_class', srcband=1, nbits=64,dtype='Float64',type='class',data_range=[1.000,2.000],colormap_name='magma')"
   ]
  },
  {
   "cell_type": "markdown",
   "metadata": {},
   "source": [
    "## Serealize classification script and send to the DL platform"
   ]
  },
  {
   "cell_type": "code",
   "execution_count": 12,
   "metadata": {},
   "outputs": [],
   "source": [
    "from descarteslabs.client.services.tasks import AsyncTasks, as_completed\n",
    "\n",
    "\n",
    "at = AsyncTasks()\n",
    "async_func = at.create_function(\n",
    "    classify_tiles,\n",
    "    name='Urban classificaiton over Africa',\n",
    "    image=\"us.gcr.io/dl-ci-cd/images/tasks/public/geospatial/geospatial-public:latest\"\n",
    ")\n"
   ]
  },
  {
   "cell_type": "code",
   "execution_count": 13,
   "metadata": {},
   "outputs": [],
   "source": [
    "task = async_func(tiles, model, '7294028cc01114d89a473cf055d29dc5cd5ffe88:Urban_Africa')"
   ]
  }
 ],
 "metadata": {
  "kernelspec": {
   "display_name": "Python 2",
   "language": "python",
   "name": "python2"
  },
  "language_info": {
   "codemirror_mode": {
    "name": "ipython",
    "version": 2
   },
   "file_extension": ".py",
   "mimetype": "text/x-python",
   "name": "python",
   "nbconvert_exporter": "python",
   "pygments_lexer": "ipython2",
   "version": "2.7.10"
  }
 },
 "nbformat": 4,
 "nbformat_minor": 2
}
