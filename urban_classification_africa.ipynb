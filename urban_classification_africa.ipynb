{
 "cells": [
  {
   "cell_type": "code",
   "execution_count": 27,
   "metadata": {},
   "outputs": [],
   "source": [
    "import shapely.geometry\n",
    "import descarteslabs as dl \n",
    "from pprint import pprint\n",
    "import descarteslabs as dl\n",
    "import os\n",
    "import numpy as np\n",
    "from osgeo import gdal\n",
    "from sklearn.ensemble import RandomForestClassifier\n",
    "import pickle"
   ]
  },
  {
   "cell_type": "markdown",
   "metadata": {},
   "source": [
    "## Generate trained model"
   ]
  },
  {
   "cell_type": "markdown",
   "metadata": {},
   "source": [
    "Write helper functions to rasterize vector data via gdal "
   ]
  },
  {
   "cell_type": "code",
   "execution_count": 28,
   "metadata": {},
   "outputs": [],
   "source": [
    "def create_mask_from_vector(vector_data_path, cols, rows, geo_transform,\n",
    "                            projection, target_value=1):\n",
    "    \"\"\"Rasterize the given vector (wrapper for gdal.RasterizeLayer).\"\"\"\n",
    "    data_source = gdal.OpenEx(vector_data_path, gdal.OF_VECTOR)\n",
    "    layer = data_source.GetLayer(0)\n",
    "    driver = gdal.GetDriverByName('MEM')  # In memory dataset\n",
    "    target_ds = driver.Create('', cols, rows, 1, gdal.GDT_UInt16)\n",
    "    target_ds.SetGeoTransform(geo_transform)\n",
    "    target_ds.SetProjection(projection)\n",
    "    gdal.RasterizeLayer(target_ds, [1], layer, burn_values=[target_value])\n",
    "    return target_ds\n",
    "\n",
    "\n",
    "def vectors_to_raster(file_paths, rows, cols, geo_transform, projection):\n",
    "    \"\"\"Rasterize the vectors in the given directory in a single image.\"\"\"\n",
    "    labeled_pixels = np.zeros((rows, cols))\n",
    "    print\n",
    "    for i, path in enumerate(file_paths):\n",
    "        label = i+1\n",
    "        ds = create_mask_from_vector(path, cols, rows, geo_transform,\n",
    "                                     projection, target_value=label)\n",
    "        band = ds.GetRasterBand(1)\n",
    "        labeled_pixels += band.ReadAsArray()\n",
    "        ds = None\n",
    "    return labeled_pixels\n",
    "\n",
    "\n",
    "def write_geotiff(fname, data, geo_transform, projection):\n",
    "    \"\"\"Create a GeoTIFF file with the given data.\"\"\"\n",
    "    driver = gdal.GetDriverByName('GTiff')\n",
    "    rows, cols = data.shape\n",
    "    dataset = driver.Create(fname, cols, rows, 1, gdal.GDT_Byte)\n",
    "    dataset.SetGeoTransform(geo_transform)\n",
    "    dataset.SetProjection(projection)\n",
    "    band = dataset.GetRasterBand(1)\n",
    "    band.WriteArray(data)\n",
    "    dataset = None  # Close the file"
   ]
  },
  {
   "cell_type": "markdown",
   "metadata": {},
   "source": [
    "Train the model with known images and local training data"
   ]
  },
  {
   "cell_type": "code",
   "execution_count": 29,
   "metadata": {},
   "outputs": [],
   "source": [
    "north_east = 'landsat:LC08:01:RT:TOAR:meta_LC08_L1TP_172062_20170701_20170701_01_RT_v1'\n",
    "south_east = 'landsat:LC08:01:RT:TOAR:meta_LC08_L1TP_172063_20170701_20170701_01_RT_v1'\n",
    "north_west = 'landsat:LC08:01:T1:TOAR:meta_LC08_L1TP_173062_20170606_20170616_01_T1_v1'\n",
    "south_west = 'landsat:LC08:01:T1:TOAR:meta_LC08_L1TP_173063_20170606_20170616_01_T1_v1'\n",
    "ids = [south_east,south_west, north_east,north_west]"
   ]
  },
  {
   "cell_type": "code",
   "execution_count": 30,
   "metadata": {},
   "outputs": [],
   "source": [
    "training_arr, training_meta = dl.raster.ndarray(\n",
    "    ids,\n",
    "    bands=['red', 'green', 'blue', 'alpha'],\n",
    "    scales=[[0,4000], [0, 4000], [0, 4000], None],\n",
    "    data_type='Float32',\n",
    "    resolution=351.263936238588940,\n",
    "    srs = \"EPSG:32636\",\n",
    "    bounds=(55210.738, -494687.129, 261010.738, -255587.129)\n",
    ")"
   ]
  },
  {
   "cell_type": "code",
   "execution_count": 31,
   "metadata": {},
   "outputs": [
    {
     "name": "stdout",
     "output_type": "stream",
     "text": [
      "[55210.738, 351.263936239, 0.0, -255587.129, 0.0, -351.263936239]\n"
     ]
    }
   ],
   "source": [
    "rows, cols, n_bands = training_arr.shape \n",
    "geo_transform = training_meta['geoTransform']\n",
    "print(geo_transform)\n",
    "proj = 'PROJCS[\"WGS 84 / UTM zone 36N\",GEOGCS[\"WGS 84\",DATUM[\"WGS_1984\",SPHEROID[\"WGS 84\",6378137,298.257223563,AUTHORITY[\"EPSG\",\"7030\"]],AUTHORITY[\"EPSG\",\"6326\"]],PRIMEM[\"Greenwich\",0,AUTHORITY[\"EPSG\",\"8901\"]],UNIT[\"degree\",0.0174532925199433,AUTHORITY[\"EPSG\",\"9122\"]],AUTHORITY[\"EPSG\",\"4326\"]],PROJECTION[\"Transverse_Mercator\"],PARAMETER[\"latitude_of_origin\",0],PARAMETER[\"central_meridian\",33],PARAMETER[\"scale_factor\",0.9996],PARAMETER[\"false_easting\",500000],PARAMETER[\"false_northing\",0],UNIT[\"metre\",1,AUTHORITY[\"EPSG\",\"9001\"]],AXIS[\"Easting\",EAST],AXIS[\"Northing\",NORTH],AUTHORITY[\"EPSG\",\"32636\"]]'"
   ]
  },
  {
   "cell_type": "code",
   "execution_count": 32,
   "metadata": {},
   "outputs": [],
   "source": [
    "train_data_path = \"data/training/urban/\""
   ]
  },
  {
   "cell_type": "code",
   "execution_count": 33,
   "metadata": {},
   "outputs": [
    {
     "name": "stdout",
     "output_type": "stream",
     "text": [
      "The class are urban and non_urban.\n",
      "\n"
     ]
    }
   ],
   "source": [
    "files = [f for f in os.listdir(train_data_path) if f.endswith('.shp')]\n",
    "classes = [f.split('.')[0] for f in files]\n",
    "print(\"The class are {} and {}.\".format(classes[0],classes[1]))\n",
    "shapefiles = [os.path.join(train_data_path, f)\n",
    "              for f in files if f.endswith('.shp')]\n",
    "\n",
    "labeled_pixels = vectors_to_raster(shapefiles, rows, cols, geo_transform,\n",
    "                                   proj)\n",
    "is_train = np.nonzero(labeled_pixels)\n",
    "training_labels = labeled_pixels[is_train]\n",
    "training_samples = training_arr[is_train]"
   ]
  },
  {
   "cell_type": "code",
   "execution_count": 34,
   "metadata": {},
   "outputs": [
    {
     "data": {
      "text/plain": [
       "RandomForestClassifier(bootstrap=True, class_weight=None, criterion='gini',\n",
       "            max_depth=None, max_features='auto', max_leaf_nodes=None,\n",
       "            min_impurity_decrease=0.0, min_impurity_split=None,\n",
       "            min_samples_leaf=1, min_samples_split=2,\n",
       "            min_weight_fraction_leaf=0.0, n_estimators=10, n_jobs=-1,\n",
       "            oob_score=False, random_state=None, verbose=0,\n",
       "            warm_start=False)"
      ]
     },
     "execution_count": 34,
     "metadata": {},
     "output_type": "execute_result"
    }
   ],
   "source": [
    "trained_classifier = RandomForestClassifier(n_jobs=-1)\n",
    "trained_classifier.fit(training_samples, training_labels)"
   ]
  },
  {
   "cell_type": "code",
   "execution_count": 35,
   "metadata": {},
   "outputs": [],
   "source": [
    "model = pickle.dumps(trained_classifier)"
   ]
  },
  {
   "cell_type": "markdown",
   "metadata": {},
   "source": [
    "## Generate tiles over Africa"
   ]
  },
  {
   "cell_type": "code",
   "execution_count": 36,
   "metadata": {},
   "outputs": [],
   "source": [
    "africa = dl.places.shape(\"africa\")\n",
    "p = shapely.geometry.box(*africa.bbox)\n",
    "tiles = dl.raster.dltiles_from_shape(\n",
    "    resolution=500, \n",
    "    tilesize=4000, \n",
    "    pad=16, \n",
    "    shape=shapely.geometry.mapping(p))"
   ]
  },
  {
   "cell_type": "code",
   "execution_count": 37,
   "metadata": {},
   "outputs": [
    {
     "name": "stdout",
     "output_type": "stream",
     "text": [
      "135\n"
     ]
    }
   ],
   "source": [
    "print(len(tiles['features']))"
   ]
  },
  {
   "cell_type": "code",
   "execution_count": 38,
   "metadata": {},
   "outputs": [
    {
     "name": "stdout",
     "output_type": "stream",
     "text": [
      "{\n",
      "  u'geometry': {\n",
      "    u'coordinates': [\n",
      "      [\n",
      "        [-27.089007279009895, -36.21681037168522],\n",
      "        [-5.378941068160413, -34.23840253207198],\n",
      "        [-8.399562719271442, -17.126229256665493],\n",
      "        [-27.075576603996197, -18.01638546741228],\n",
      "        ...\n",
      "      ]\n",
      "    ],\n",
      "    u'type': u'Polygon'\n",
      "  },\n",
      "  u'properties': {\n",
      "    u'cs_code': u'EPSG:32626',\n",
      "    u'key': u'4000:16:500.0:26:0:-2',\n",
      "    u'outputBounds': [492000.0, -4008000.0, 2508000.0, -1992000.0],\n",
      "    u'pad': 16,\n",
      "    u'resolution': 500.0,\n",
      "    u'ti': 0,\n",
      "    u'tilesize': 4000,\n",
      "    u'tj': -2,\n",
      "    u'zone': 26\n",
      "  },\n",
      "  u'type': u'Feature'\n",
      "}\n"
     ]
    }
   ],
   "source": [
    "pprint(tiles['features'][0])"
   ]
  },
  {
   "cell_type": "markdown",
   "metadata": {},
   "source": [
    "## Prepare classification code"
   ]
  },
  {
   "cell_type": "code",
   "execution_count": 39,
   "metadata": {},
   "outputs": [],
   "source": [
    "def classify_tiles(tiles, str_classifier, imagery_id):\n",
    "    \n",
    "    import json\n",
    "    import descarteslabs as dl \n",
    "    from sklearn.ensemble import RandomForestClassifier\n",
    "    from descarteslabs.client.services import Catalog\n",
    "    import pickle \n",
    "    \n",
    "    classifier = pickle.loads(str_classifier)\n",
    "    \n",
    "    date = ['2016-01-01','2018-04-12']\n",
    "    total_land_pixels = 0\n",
    "    counter = 0\n",
    "    \n",
    "    for tile in tiles['features']:\n",
    "        images = dl.metadata.search(\n",
    "                                products=['landsat:LC08:PRE:TOAR', 'landsat:LC08:01:RT:TOAR','landsat:LC08:01:T2:TOAR'],\n",
    "                                start_time=date[0],\n",
    "                                end_time=date[1],\n",
    "                                geom=json.dumps(tile['geometry']),\n",
    "                                cloud_fraction=0.2,\n",
    "                                limit = 1\n",
    "                                )\n",
    "\n",
    "        print('Tile #' + str(counter) + '. Number of scenes for this tile: ' + str(len(images['features'])))\n",
    "        counter += 1\n",
    "            \n",
    "        ids = [f['id'] for f in images['features']]\n",
    "        if ids: \n",
    "        \n",
    "            arr, meta = dl.raster.ndarray(\n",
    "                ids,\n",
    "                bands=['red', 'green', 'blue', 'alpha'],\n",
    "                scales=[[0,6000], [0, 6000], [0, 6000], None],\n",
    "                data_type='Byte',\n",
    "                srs = tile['properties']['cs_code'],\n",
    "                resolution=1000,\n",
    "                bounds = tile['properties']['outputBounds'])\n",
    "\n",
    "            arr = arr[16:-16, 16:-16]\n",
    "            rows, cols, bands = arr.shape\n",
    "            \n",
    "        \n",
    "            n_samples = rows*cols\n",
    "            flat_pixels = arr.reshape((n_samples, n_bands))\n",
    "            result = classifier.predict(flat_pixels)\n",
    "            classification = result.reshape((rows, cols))\n",
    "            print(np.unique(classification, return_counts=True))\n",
    "            \n",
    "            # Upload classified tile to the same product \n",
    "            catalog = Catalog()\n",
    "            catalog.upload_ndarray(classification, \n",
    "                                   product_id= imagery_id, \n",
    "                                   image_key=\"tile_{}\".format(counter), \n",
    "                                   wkt_srs=meta['coordinateSystem']['wkt'], \n",
    "                                   geotrans=meta['geoTransform'])"
   ]
  },
  {
   "cell_type": "code",
   "execution_count": null,
   "metadata": {},
   "outputs": [],
   "source": [
    "from descarteslabs.client.services import Catalog\n",
    "prod = Catalog().add_product('Urban_Africa', \n",
    "                      title='Urban_Africa', \n",
    "                      description='Urban areas identified using the random forest classificaiton.'\n",
    "                     )\n",
    "prod_id = prod['data']['id']"
   ]
  },
  {
   "cell_type": "code",
   "execution_count": null,
   "metadata": {},
   "outputs": [],
   "source": [
    "Catalog().add_band(product_id= prod_id, name='urban_class', srcband=1, nbits=64,dtype='Float64',type='class',data_range=[1.000,2.000],colormap_name='magma')"
   ]
  },
  {
   "cell_type": "markdown",
   "metadata": {},
   "source": [
    "## Serealize classification script and send to the DL platform"
   ]
  },
  {
   "cell_type": "code",
   "execution_count": 25,
   "metadata": {},
   "outputs": [],
   "source": [
    "from descarteslabs.client.services.tasks import AsyncTasks, as_completed\n",
    "\n",
    "\n",
    "at = AsyncTasks()\n",
    "async_func = at.create_function(\n",
    "    classify_tiles,\n",
    "    name='Test scaling demo over Africa',\n",
    "    image=\"us.gcr.io/dl-ci-cd/images/tasks/public/geospatial/geospatial-public:latest\",\n",
    "    memory='10Gi'\n",
    ")\n"
   ]
  },
  {
   "cell_type": "code",
   "execution_count": 26,
   "metadata": {},
   "outputs": [],
   "source": [
    "task = async_func(tiles, model, '7294028cc01114d89a473cf055d29dc5cd5ffe88:Urban_Africa')"
   ]
  },
  {
   "cell_type": "code",
   "execution_count": 40,
   "metadata": {},
   "outputs": [
    {
     "name": "stdout",
     "output_type": "stream",
     "text": [
      "Tile #0. Number of scenes for this tile: 1\n",
      "(array([1., 2.]), array([   2771, 3933485]))\n",
      "Tile #1. Number of scenes for this tile: 1\n",
      "(array([1., 2.]), array([   2222, 3934034]))\n",
      "Tile #2. Number of scenes for this tile: 1\n",
      "(array([2.]), array([3936256]))\n",
      "Tile #3. Number of scenes for this tile: 1\n",
      "(array([1., 2.]), array([  38640, 3897616]))\n",
      "Tile #4. Number of scenes for this tile: 1\n",
      "(array([1., 2.]), array([   2189, 3934067]))\n",
      "Tile #5. Number of scenes for this tile: 1\n",
      "(array([1., 2.]), array([   3017, 3933239]))\n",
      "Tile #6. Number of scenes for this tile: 1\n",
      "(array([1., 2.]), array([   3535, 3932721]))\n",
      "Tile #7. Number of scenes for this tile: 1\n",
      "(array([1., 2.]), array([   2479, 3933777]))\n",
      "Tile #8. Number of scenes for this tile: 1\n",
      "(array([1., 2.]), array([   2292, 3933964]))\n",
      "Tile #9. Number of scenes for this tile: 1\n",
      "(array([1., 2.]), array([     86, 3936170]))\n",
      "Tile #10. Number of scenes for this tile: 0\n",
      "Tile #11. Number of scenes for this tile: 1\n",
      "(array([1., 2.]), array([   6044, 3930212]))\n",
      "Tile #12. Number of scenes for this tile: 1\n",
      "(array([2.]), array([3936256]))\n",
      "Tile #13. Number of scenes for this tile: 1\n",
      "(array([1., 2.]), array([  36708, 3899548]))\n",
      "Tile #14. Number of scenes for this tile: 1\n",
      "(array([2.]), array([3936256]))\n",
      "Tile #15. Number of scenes for this tile: 1\n",
      "(array([1., 2.]), array([   3115, 3933141]))\n",
      "Tile #16. Number of scenes for this tile: 1\n",
      "(array([2.]), array([3936256]))\n",
      "Tile #17. Number of scenes for this tile: 1\n",
      "(array([1., 2.]), array([   1640, 3934616]))\n",
      "Tile #18. Number of scenes for this tile: 1\n",
      "(array([1., 2.]), array([  21288, 3914968]))\n",
      "Tile #19. Number of scenes for this tile: 1\n",
      "(array([1., 2.]), array([    163, 3936093]))\n",
      "Tile #20. Number of scenes for this tile: 0\n",
      "Tile #21. Number of scenes for this tile: 1\n",
      "(array([1., 2.]), array([   5778, 3930478]))\n",
      "Tile #22. Number of scenes for this tile: 1\n",
      "(array([1., 2.]), array([   3888, 3932368]))\n",
      "Tile #23. Number of scenes for this tile: 1\n",
      "(array([1., 2.]), array([  36664, 3899592]))\n",
      "Tile #24. Number of scenes for this tile: 1\n",
      "(array([1., 2.]), array([   1099, 3935157]))\n",
      "Tile #25. Number of scenes for this tile: 1\n",
      "(array([2.]), array([3936256]))\n",
      "Tile #26. Number of scenes for this tile: 1\n",
      "(array([1., 2.]), array([   2130, 3934126]))\n",
      "Tile #27. Number of scenes for this tile: 1\n",
      "(array([2.]), array([3936256]))\n",
      "Tile #28. Number of scenes for this tile: 1\n",
      "(array([1., 2.]), array([  19574, 3916682]))\n",
      "Tile #29. Number of scenes for this tile: 1\n",
      "(array([1., 2.]), array([   4397, 3931859]))\n",
      "Tile #30. Number of scenes for this tile: 1\n",
      "(array([2.]), array([3936256]))\n",
      "Tile #31. Number of scenes for this tile: 1\n",
      "(array([2.]), array([3936256]))\n",
      "Tile #32. Number of scenes for this tile: 1\n",
      "(array([1., 2.]), array([  12346, 3923910]))\n",
      "Tile #33. Number of scenes for this tile: 1\n",
      "(array([1., 2.]), array([    133, 3936123]))\n",
      "Tile #34. Number of scenes for this tile: 1\n",
      "(array([1., 2.]), array([   1004, 3935252]))\n",
      "Tile #35. Number of scenes for this tile: 1\n",
      "(array([2.]), array([3936256]))\n",
      "Tile #36. Number of scenes for this tile: 1\n",
      "(array([1., 2.]), array([   5689, 3930567]))\n",
      "Tile #37. Number of scenes for this tile: 1\n",
      "(array([1., 2.]), array([      7, 3936249]))\n",
      "Tile #38. Number of scenes for this tile: 1\n",
      "(array([1., 2.]), array([  15682, 3920574]))\n",
      "Tile #39. Number of scenes for this tile: 1\n",
      "(array([2.]), array([3936256]))\n",
      "Tile #40. Number of scenes for this tile: 1\n",
      "(array([1., 2.]), array([     26, 3936230]))\n",
      "Tile #41. Number of scenes for this tile: 1\n",
      "(array([1., 2.]), array([  38289, 3897967]))\n",
      "Tile #42. Number of scenes for this tile: 1\n",
      "(array([1., 2.]), array([   8407, 3927849]))\n",
      "Tile #43. Number of scenes for this tile: 1\n",
      "(array([1., 2.]), array([     66, 3936190]))\n",
      "Tile #44. Number of scenes for this tile: 1\n",
      "(array([1., 2.]), array([   5978, 3930278]))\n",
      "Tile #45. Number of scenes for this tile: 0\n",
      "Tile #46. Number of scenes for this tile: 1\n",
      "(array([1., 2.]), array([   5799, 3930457]))\n",
      "Tile #47. Number of scenes for this tile: 1\n",
      "(array([1., 2.]), array([   4216, 3932040]))\n",
      "Tile #48. Number of scenes for this tile: 1\n",
      "(array([1., 2.]), array([  35590, 3900666]))\n",
      "Tile #49. Number of scenes for this tile: 1\n",
      "(array([2.]), array([3936256]))\n",
      "Tile #50. Number of scenes for this tile: 1\n",
      "(array([1., 2.]), array([  12799, 3923457]))\n",
      "Tile #51. Number of scenes for this tile: 1\n",
      "(array([1., 2.]), array([   9089, 3927167]))\n",
      "Tile #52. Number of scenes for this tile: 1\n",
      "(array([1., 2.]), array([  37005, 3899251]))\n",
      "Tile #53. Number of scenes for this tile: 1\n",
      "(array([1., 2.]), array([     24, 3936232]))\n",
      "Tile #54. Number of scenes for this tile: 1\n",
      "(array([2.]), array([3936256]))\n",
      "Tile #55. Number of scenes for this tile: 1\n",
      "(array([2.]), array([3936256]))\n",
      "Tile #56. Number of scenes for this tile: 1\n",
      "(array([1., 2.]), array([      8, 3936248]))\n",
      "Tile #57. Number of scenes for this tile: 1\n",
      "(array([1., 2.]), array([  16859, 3919397]))\n",
      "Tile #58. Number of scenes for this tile: 1\n",
      "(array([1., 2.]), array([  36655, 3899601]))\n",
      "Tile #59. Number of scenes for this tile: 1\n",
      "(array([1., 2.]), array([   1124, 3935132]))\n",
      "Tile #60. Number of scenes for this tile: 1\n",
      "(array([1., 2.]), array([  13811, 3922445]))\n",
      "Tile #61. Number of scenes for this tile: 1\n",
      "(array([1., 2.]), array([   7300, 3928956]))\n",
      "Tile #62. Number of scenes for this tile: 1\n",
      "(array([1., 2.]), array([  35774, 3900482]))\n",
      "Tile #63. Number of scenes for this tile: 1\n",
      "(array([1., 2.]), array([     12, 3936244]))\n",
      "Tile #64. Number of scenes for this tile: 1\n",
      "(array([1., 2.]), array([    486, 3935770]))\n",
      "Tile #65. Number of scenes for this tile: 1\n",
      "(array([1., 2.]), array([     27, 3936229]))\n",
      "Tile #66. Number of scenes for this tile: 1\n",
      "(array([1., 2.]), array([  35290, 3900966]))\n",
      "Tile #67. Number of scenes for this tile: 1\n",
      "(array([1., 2.]), array([  13317, 3922939]))\n",
      "Tile #68. Number of scenes for this tile: 1\n",
      "(array([2.]), array([3936256]))\n",
      "Tile #69. Number of scenes for this tile: 1\n",
      "(array([1., 2.]), array([  20244, 3916012]))\n",
      "Tile #70. Number of scenes for this tile: 1\n",
      "(array([1., 2.]), array([   7203, 3929053]))\n",
      "Tile #71. Number of scenes for this tile: 1\n",
      "(array([1., 2.]), array([  38308, 3897948]))\n",
      "Tile #72. Number of scenes for this tile: 1\n",
      "(array([1., 2.]), array([     58, 3936198]))\n",
      "Tile #73. Number of scenes for this tile: 1\n",
      "(array([1., 2.]), array([   8830, 3927426]))\n",
      "Tile #74. Number of scenes for this tile: 1\n",
      "(array([1., 2.]), array([  10654, 3925602]))\n",
      "Tile #75. Number of scenes for this tile: 1\n",
      "(array([2.]), array([3936256]))\n",
      "Tile #76. Number of scenes for this tile: 1\n",
      "(array([1., 2.]), array([   9529, 3926727]))\n",
      "Tile #77. Number of scenes for this tile: 1\n",
      "(array([1., 2.]), array([  35772, 3900484]))\n",
      "Tile #78. Number of scenes for this tile: 0\n",
      "Tile #79. Number of scenes for this tile: 1\n",
      "(array([1., 2.]), array([   2026, 3934230]))\n",
      "Tile #80. Number of scenes for this tile: 1\n",
      "(array([1., 2.]), array([   4424, 3931832]))\n",
      "Tile #81. Number of scenes for this tile: 1\n",
      "(array([1., 2.]), array([  38644, 3897612]))\n",
      "Tile #82. Number of scenes for this tile: 1\n",
      "(array([1., 2.]), array([  37392, 3898864]))\n",
      "Tile #83. Number of scenes for this tile: 1\n",
      "(array([1., 2.]), array([   9158, 3927098]))\n",
      "Tile #84. Number of scenes for this tile: 1\n",
      "(array([1., 2.]), array([  28640, 3907616]))\n",
      "Tile #85. Number of scenes for this tile: 1\n",
      "(array([2.]), array([3936256]))\n",
      "Tile #86. Number of scenes for this tile: 1\n",
      "(array([1., 2.]), array([   5982, 3930274]))\n",
      "Tile #87. Number of scenes for this tile: 1\n",
      "(array([1., 2.]), array([  36934, 3899322]))\n",
      "Tile #88. Number of scenes for this tile: 1\n",
      "(array([2.]), array([3936256]))\n",
      "Tile #89. Number of scenes for this tile: 1\n",
      "(array([1., 2.]), array([  35386, 3900870]))\n",
      "Tile #90. Number of scenes for this tile: 1\n",
      "(array([1., 2.]), array([   5123, 3931133]))\n",
      "Tile #91. Number of scenes for this tile: 1\n",
      "(array([1., 2.]), array([    121, 3936135]))\n",
      "Tile #92. Number of scenes for this tile: 1\n",
      "(array([1., 2.]), array([   5443, 3930813]))\n",
      "Tile #93. Number of scenes for this tile: 1\n",
      "(array([1., 2.]), array([  31440, 3904816]))\n",
      "Tile #94. Number of scenes for this tile: 1\n",
      "(array([2.]), array([3936256]))\n",
      "Tile #95. Number of scenes for this tile: 1\n",
      "(array([1., 2.]), array([   6729, 3929527]))\n",
      "Tile #96. Number of scenes for this tile: 1\n",
      "(array([1., 2.]), array([  35517, 3900739]))\n"
     ]
    },
    {
     "name": "stdout",
     "output_type": "stream",
     "text": [
      "Tile #97. Number of scenes for this tile: 1\n",
      "(array([2.]), array([3936256]))\n",
      "Tile #98. Number of scenes for this tile: 1\n",
      "(array([2.]), array([3936256]))\n",
      "Tile #99. Number of scenes for this tile: 1\n",
      "(array([1., 2.]), array([      3, 3936253]))\n",
      "Tile #100. Number of scenes for this tile: 1\n",
      "(array([1., 2.]), array([  10173, 3926083]))\n",
      "Tile #101. Number of scenes for this tile: 1\n",
      "(array([1., 2.]), array([  27407, 3908849]))\n",
      "Tile #102. Number of scenes for this tile: 1\n",
      "(array([2.]), array([3936256]))\n",
      "Tile #103. Number of scenes for this tile: 1\n",
      "(array([1., 2.]), array([  37216, 3899040]))\n",
      "Tile #104. Number of scenes for this tile: 1\n",
      "(array([1., 2.]), array([  37716, 3898540]))\n",
      "Tile #105. Number of scenes for this tile: 1\n",
      "(array([2.]), array([3936256]))\n",
      "Tile #106. Number of scenes for this tile: 1\n",
      "(array([1., 2.]), array([  35578, 3900678]))\n",
      "Tile #107. Number of scenes for this tile: 1\n",
      "(array([2.]), array([3936256]))\n",
      "Tile #108. Number of scenes for this tile: 1\n",
      "(array([1., 2.]), array([     15, 3936241]))\n",
      "Tile #109. Number of scenes for this tile: 1\n",
      "(array([1., 2.]), array([   9805, 3926451]))\n",
      "Tile #110. Number of scenes for this tile: 1\n",
      "(array([1., 2.]), array([  15971, 3920285]))\n",
      "Tile #111. Number of scenes for this tile: 1\n",
      "(array([1., 2.]), array([   2177, 3934079]))\n",
      "Tile #112. Number of scenes for this tile: 1\n",
      "(array([1., 2.]), array([   2963, 3933293]))\n",
      "Tile #113. Number of scenes for this tile: 1\n",
      "(array([1., 2.]), array([  35696, 3900560]))\n",
      "Tile #114. Number of scenes for this tile: 1\n",
      "(array([1., 2.]), array([  29055, 3907201]))\n",
      "Tile #115. Number of scenes for this tile: 1\n",
      "(array([1., 2.]), array([   4595, 3931661]))\n",
      "Tile #116. Number of scenes for this tile: 1\n",
      "(array([1., 2.]), array([     35, 3936221]))\n",
      "Tile #117. Number of scenes for this tile: 1\n",
      "(array([1., 2.]), array([   5472, 3930784]))\n",
      "Tile #118. Number of scenes for this tile: 1\n",
      "(array([1., 2.]), array([  27210, 3909046]))\n",
      "Tile #119. Number of scenes for this tile: 1\n",
      "(array([1., 2.]), array([   7741, 3928515]))\n",
      "Tile #120. Number of scenes for this tile: 1\n",
      "(array([1., 2.]), array([   6506, 3929750]))\n",
      "Tile #121. Number of scenes for this tile: 1\n",
      "(array([1., 2.]), array([   9799, 3926457]))\n",
      "Tile #122. Number of scenes for this tile: 1\n",
      "(array([1., 2.]), array([   2824, 3933432]))\n",
      "Tile #123. Number of scenes for this tile: 1\n",
      "(array([1., 2.]), array([  14046, 3922210]))\n",
      "Tile #124. Number of scenes for this tile: 1\n",
      "(array([1., 2.]), array([  37328, 3898928]))\n",
      "Tile #125. Number of scenes for this tile: 1\n",
      "(array([1., 2.]), array([    200, 3936056]))\n",
      "Tile #126. Number of scenes for this tile: 1\n",
      "(array([1., 2.]), array([  17003, 3919253]))\n",
      "Tile #127. Number of scenes for this tile: 1\n",
      "(array([2.]), array([3936256]))\n",
      "Tile #128. Number of scenes for this tile: 1\n",
      "(array([1., 2.]), array([  10520, 3925736]))\n",
      "Tile #129. Number of scenes for this tile: 1\n",
      "(array([1., 2.]), array([   2646, 3933610]))\n",
      "Tile #130. Number of scenes for this tile: 1\n",
      "(array([1., 2.]), array([   6205, 3930051]))\n",
      "Tile #131. Number of scenes for this tile: 1\n",
      "(array([1., 2.]), array([   9402, 3926854]))\n",
      "Tile #132. Number of scenes for this tile: 1\n",
      "(array([1., 2.]), array([   2804, 3933452]))\n",
      "Tile #133. Number of scenes for this tile: 0\n",
      "Tile #134. Number of scenes for this tile: 1\n",
      "(array([1., 2.]), array([  38907, 3897349]))\n"
     ]
    }
   ],
   "source": [
    "classify_tiles(tiles, model, '7294028cc01114d89a473cf055d29dc5cd5ffe88:Urban_Africa')"
   ]
  }
 ],
 "metadata": {
  "kernelspec": {
   "display_name": "Python 2",
   "language": "python",
   "name": "python2"
  },
  "language_info": {
   "codemirror_mode": {
    "name": "ipython",
    "version": 2
   },
   "file_extension": ".py",
   "mimetype": "text/x-python",
   "name": "python",
   "nbconvert_exporter": "python",
   "pygments_lexer": "ipython2",
   "version": "2.7.10"
  }
 },
 "nbformat": 4,
 "nbformat_minor": 2
}
